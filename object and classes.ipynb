{
 "cells": [
  {
   "cell_type": "code",
   "execution_count": 1,
   "id": "2882585b",
   "metadata": {},
   "outputs": [],
   "source": [
    "class phone:\n",
    "    def make_call(self):\n",
    "        print(\"MAking phone call\")\n",
    "    def play_game(self):\n",
    "        print(\"playing game\")"
   ]
  },
  {
   "cell_type": "code",
   "execution_count": 3,
   "id": "94cbf68c",
   "metadata": {},
   "outputs": [
    {
     "name": "stdout",
     "output_type": "stream",
     "text": [
      "MAking phone call\n"
     ]
    }
   ],
   "source": [
    "p = phone()\n",
    "p.make_call()"
   ]
  },
  {
   "cell_type": "code",
   "execution_count": 5,
   "id": "84b98261",
   "metadata": {},
   "outputs": [
    {
     "name": "stdout",
     "output_type": "stream",
     "text": [
      "playing game\n"
     ]
    }
   ],
   "source": [
    "p.play_game()"
   ]
  },
  {
   "cell_type": "code",
   "execution_count": 8,
   "id": "0754c350",
   "metadata": {},
   "outputs": [],
   "source": [
    "class phone:\n",
    "    def set_color(self, color):\n",
    "        self.color=color\n",
    "    def show_color(self):\n",
    "        return self.color\n",
    "    def play_game(self):\n",
    "        print(\"playing game\")"
   ]
  },
  {
   "cell_type": "code",
   "execution_count": 12,
   "id": "694e6421",
   "metadata": {},
   "outputs": [
    {
     "name": "stdout",
     "output_type": "stream",
     "text": [
      "playing game\n"
     ]
    }
   ],
   "source": [
    "e1 = phone()\n",
    "e1.set_color(\"blue\")\n",
    "e1.show_color()\n",
    "e1.play_game()"
   ]
  },
  {
   "cell_type": "code",
   "execution_count": 11,
   "id": "392ac254",
   "metadata": {},
   "outputs": [
    {
     "data": {
      "text/plain": [
       "'blue'"
      ]
     },
     "execution_count": 11,
     "metadata": {},
     "output_type": "execute_result"
    }
   ],
   "source": [
    "e1.show_color()"
   ]
  },
  {
   "cell_type": "code",
   "execution_count": 13,
   "id": "75aa823e",
   "metadata": {},
   "outputs": [],
   "source": [
    "class Student:\n",
    "    def __init__(self, name, major, gpa):\n",
    "        self.name = name\n",
    "        self.major = major\n",
    "        self.gpa = gpa"
   ]
  },
  {
   "cell_type": "code",
   "execution_count": 14,
   "id": "bd68d311",
   "metadata": {},
   "outputs": [
    {
     "name": "stdout",
     "output_type": "stream",
     "text": [
      "your major is Business\n",
      "3.1\n"
     ]
    }
   ],
   "source": [
    "khapa1 = Student(\"Ram\", \"Business\", 3.1)\n",
    "\n",
    "print(\"your major is \" +khapa1.major)\n",
    "print(khapa1.gpa)\n"
   ]
  },
  {
   "cell_type": "code",
   "execution_count": 15,
   "id": "30aa0db9",
   "metadata": {},
   "outputs": [],
   "source": [
    "# CREATING A MULTIPLE CHOISE QUESTION \n",
    "class Question:\n",
    "    def __init__(self, prompt, answer):\n",
    "        self.prompt=prompt\n",
    "        self.answer= answer\n"
   ]
  },
  {
   "cell_type": "code",
   "execution_count": 17,
   "id": "8eb2114f",
   "metadata": {},
   "outputs": [
    {
     "name": "stdout",
     "output_type": "stream",
     "text": [
      "What is the color of apple?\n",
      "(a)green\n",
      "(b)yellow\n",
      "(c)red\n",
      "\n",
      "Enter your answera\n",
      "What is the color of banana?\n",
      "(a)green\n",
      "(b)yellow\n",
      "(c)red\n",
      "\n",
      "Enter your answerb\n",
      "What is the color of guava?\n",
      "(a)green\n",
      "(b)yellow\n",
      "(c)red\n",
      "\n",
      "Enter your answerc\n",
      "Your score is 2/12\n"
     ]
    }
   ],
   "source": [
    "all_questions = [\n",
    "    \"What is the color of apple?\\n(a)green\\n(b)yellow\\n(c)red\\n\",\n",
    "    \"What is the color of banana?\\n(a)green\\n(b)yellow\\n(c)red\\n\",\n",
    "    \"What is the color of guava?\\n(a)green\\n(b)yellow\\n(c)red\\n\",  \n",
    "]\n",
    "questions = [\n",
    "    Question(all_questions[0], \"c\"),\n",
    "    Question(all_questions[1], \"b\"),\n",
    "    Question(all_questions[2], \"a\")\n",
    "]\n",
    "def run_test(questions):\n",
    "    score=0\n",
    "    for question in questions:\n",
    "        print(question.prompt)\n",
    "        ans = (input(\"Enter your answer\"))\n",
    "        if ans== question.answer:\n",
    "            score = score+ 4\n",
    "        else:\n",
    "            score = score -1\n",
    "    print(\"Your score is \"+ str(score)+\"/\"+ str(4*len(questions)))\n",
    "run_test(questions)"
   ]
  },
  {
   "cell_type": "code",
   "execution_count": 18,
   "id": "4dd9ac48",
   "metadata": {},
   "outputs": [],
   "source": [
    "class chef:\n",
    "    def make_chicken(self):\n",
    "        print(\"The chef makes chicken\")\n",
    "    def make_special(self):\n",
    "        print(\"The chef makes bbq ribs\")"
   ]
  },
  {
   "cell_type": "code",
   "execution_count": 19,
   "id": "d673c1e6",
   "metadata": {},
   "outputs": [],
   "source": [
    "class chinesechef(chef):\n",
    "    def make_special(self):\n",
    "        print(\"The chef makes orange chicken\")\n",
    "    def make_fried_rice(self):\n",
    "        print(\"The chef makes fried rice\")"
   ]
  },
  {
   "cell_type": "code",
   "execution_count": 25,
   "id": "c0edee3b",
   "metadata": {},
   "outputs": [
    {
     "name": "stdout",
     "output_type": "stream",
     "text": [
      "The chef makes bbq ribs\n",
      "The chef makes bbq ribs\n"
     ]
    }
   ],
   "source": [
    "mychef = chef()\n",
    "mychef.make_special()\n",
    "mychinesechef = chinesechef()\n",
    "mychinesechef.make_special()"
   ]
  },
  {
   "cell_type": "code",
   "execution_count": null,
   "id": "7589355d",
   "metadata": {},
   "outputs": [],
   "source": []
  }
 ],
 "metadata": {
  "kernelspec": {
   "display_name": "Python 3 (ipykernel)",
   "language": "python",
   "name": "python3"
  },
  "language_info": {
   "codemirror_mode": {
    "name": "ipython",
    "version": 3
   },
   "file_extension": ".py",
   "mimetype": "text/x-python",
   "name": "python",
   "nbconvert_exporter": "python",
   "pygments_lexer": "ipython3",
   "version": "3.9.7"
  }
 },
 "nbformat": 4,
 "nbformat_minor": 5
}
