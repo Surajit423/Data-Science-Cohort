{
 "cells": [
  {
   "cell_type": "code",
   "execution_count": 1,
   "id": "ff1faec0",
   "metadata": {},
   "outputs": [
    {
     "name": "stdout",
     "output_type": "stream",
     "text": [
      "You are a short male\n"
     ]
    }
   ],
   "source": [
    "is_male = True\n",
    "is_tall = False\n",
    "\n",
    "if is_male and is_tall:\n",
    "    print(\"You are a tall male\")\n",
    "elif is_male and not(is_tall):\n",
    "    print(\"You are a short male\")\n",
    "elif not(is_male) and is_tall:\n",
    "    print(\"You are not a male but you are tall\")\n",
    "else:\n",
    "    print(\"You are either not male or not tall or both\")"
   ]
  },
  {
   "cell_type": "code",
   "execution_count": 2,
   "id": "c3e81322",
   "metadata": {},
   "outputs": [
    {
     "name": "stdout",
     "output_type": "stream",
     "text": [
      "9\n"
     ]
    }
   ],
   "source": [
    "def max_number(num1, num2, num3):\n",
    "    if num1 >= num2 and num1>= num3:\n",
    "        return num1\n",
    "    elif num2>= num1 and num2>= num3:\n",
    "        return num2\n",
    "    else :\n",
    "        return num3\n",
    "\n",
    "print(max_number(5, 9, 2))"
   ]
  },
  {
   "cell_type": "code",
   "execution_count": 3,
   "id": "5b8634c6",
   "metadata": {},
   "outputs": [
    {
     "name": "stdout",
     "output_type": "stream",
     "text": [
      "Enter your first number: 45\n",
      "Enter your second number: 62\n",
      "Enter your third number: 35\n",
      "The max number is 62.0\n"
     ]
    }
   ],
   "source": [
    "#FINDING MAX NUMBER AMONG THREE NUMBERS\n",
    "\n",
    "def max_number(num1, num2, num3):\n",
    "    if num1 >= num2 and num1>= num3:\n",
    "        return num1\n",
    "    elif num2>= num1 and num2>= num3:\n",
    "        return num2\n",
    "    else :\n",
    "        return num3\n",
    "num1 = float(input(\"Enter your first number: \"))\n",
    "num2 = float(input(\"Enter your second number: \"))\n",
    "num3 = float(input(\"Enter your third number: \"))\n",
    "result = str(max_number(num1, num2, num3))\n",
    "print(\"The max number is \"+ result)"
   ]
  },
  {
   "cell_type": "code",
   "execution_count": 4,
   "id": "25d17076",
   "metadata": {},
   "outputs": [
    {
     "name": "stdout",
     "output_type": "stream",
     "text": [
      "Enter first number: 48\n",
      "Enter your operator: /\n",
      "Enter second number: 62\n",
      "0.7741935483870968\n"
     ]
    }
   ],
   "source": [
    "#BUILDING A CALCULATOR\n",
    "\n",
    "num1 = float(input(\"Enter first number: \"))\n",
    "op = input(\"Enter your operator: \")\n",
    "num2 = float(input(\"Enter second number: \"))\n",
    "if op == \"+\":\n",
    "    print(num1+ num2)\n",
    "elif op ==\"-\":\n",
    "    print(num1-num2)\n",
    "elif op ==\"/\":\n",
    "    print(num1/num2)\n",
    "elif op ==\"*\":\n",
    "    print(num1*num2)\n",
    "else:\n",
    "    print(\"Invalid input\")"
   ]
  },
  {
   "cell_type": "code",
   "execution_count": 5,
   "id": "c27ac037",
   "metadata": {},
   "outputs": [
    {
     "name": "stdout",
     "output_type": "stream",
     "text": [
      "december\n",
      "Not a valid key\n",
      "february\n"
     ]
    }
   ],
   "source": [
    "monthCon = {\n",
    "    \"jan\" : \"january\",\n",
    "    \"feb\" : \"february\",\n",
    "    \"mar\" : \"march\",\n",
    "    \"dec\" : \"december\",\n",
    "}\n",
    "print(monthCon[\"dec\"])\n",
    "print(monthCon.get(\"dfr\", \"Not a valid key\"))\n",
    "print(monthCon.get(\"feb\"))"
   ]
  },
  {
   "cell_type": "code",
   "execution_count": 6,
   "id": "55d9bd77",
   "metadata": {},
   "outputs": [
    {
     "name": "stdout",
     "output_type": "stream",
     "text": [
      "1\n",
      "2\n",
      "3\n",
      "4\n",
      "5\n",
      "6\n",
      "7\n",
      "8\n",
      "9\n",
      "10\n",
      "Done with loop\n"
     ]
    }
   ],
   "source": [
    "i= 1 \n",
    "while i<= 10:\n",
    "    print(i)\n",
    "    i+=1\n",
    "print(\"Done with loop\")"
   ]
  },
  {
   "cell_type": "code",
   "execution_count": 7,
   "id": "c97b0e60",
   "metadata": {},
   "outputs": [
    {
     "name": "stdout",
     "output_type": "stream",
     "text": [
      "Enter guess: Ram\n",
      "You win\n"
     ]
    }
   ],
   "source": [
    "secret_word = \"Ram\"\n",
    "guess = \"\"\n",
    "while guess != secret_word:\n",
    "    guess = input(\"Enter guess: \")\n",
    "print(\"You win\")"
   ]
  },
  {
   "cell_type": "code",
   "execution_count": 8,
   "id": "31a46a97",
   "metadata": {},
   "outputs": [
    {
     "name": "stdout",
     "output_type": "stream",
     "text": [
      "Enter guess: dfg\n",
      "Enter guess: hgm\n",
      "Enter guess: kjh\n",
      "You have no chance, You lose!\n"
     ]
    }
   ],
   "source": [
    "#GUESSING GAME\n",
    "secret_word = \"Ram\"\n",
    "guess = \"\"\n",
    "guess_count = 0\n",
    "guess_limit = 3\n",
    "chance = True\n",
    "while guess != secret_word and chance:\n",
    "    if guess_count < guess_limit:\n",
    "        guess = input(\"Enter guess: \")\n",
    "        guess_count+= 1\n",
    "    else:\n",
    "        chance = False\n",
    "if not(chance):\n",
    "    print(\"You have no chance, You lose!\")\n",
    "else:\n",
    "    print(\"You win!\")"
   ]
  },
  {
   "cell_type": "code",
   "execution_count": 9,
   "id": "1a655a2c",
   "metadata": {},
   "outputs": [
    {
     "name": "stdout",
     "output_type": "stream",
     "text": [
      "G\n",
      "h\n",
      "j\n",
      " \n",
      "n\n",
      "h\n",
      "f\n",
      "d\n"
     ]
    }
   ],
   "source": [
    "for letter in \"Ghj nhfd\":\n",
    "    print(letter)"
   ]
  },
  {
   "cell_type": "code",
   "execution_count": 10,
   "id": "2252c835",
   "metadata": {},
   "outputs": [
    {
     "name": "stdout",
     "output_type": "stream",
     "text": [
      "Ram\n",
      "Joy\n",
      "Rohit\n",
      "Kunal\n",
      "Sayan\n"
     ]
    }
   ],
   "source": [
    "friends = [\"Ram\", \"Joy\", \"Rohit\", \"Kunal\", \"Sayan\"]\n",
    "for name in friends:\n",
    "    print(name)"
   ]
  },
  {
   "cell_type": "code",
   "execution_count": 11,
   "id": "ebb0aee3",
   "metadata": {},
   "outputs": [
    {
     "name": "stdout",
     "output_type": "stream",
     "text": [
      "3\n",
      "4\n",
      "5\n",
      "6\n",
      "7\n",
      "8\n",
      "9\n"
     ]
    }
   ],
   "source": [
    "for index in range(3,10):\n",
    "    print(index)"
   ]
  },
  {
   "cell_type": "code",
   "execution_count": 12,
   "id": "cf94edd9",
   "metadata": {},
   "outputs": [
    {
     "name": "stdout",
     "output_type": "stream",
     "text": [
      "Ram\n",
      "Joy\n",
      "Rohit\n",
      "Kunal\n",
      "Sayan\n"
     ]
    }
   ],
   "source": [
    "for index in range(len(friends)):\n",
    "    print(friends[index])"
   ]
  },
  {
   "cell_type": "code",
   "execution_count": 13,
   "id": "bb818df4",
   "metadata": {},
   "outputs": [
    {
     "name": "stdout",
     "output_type": "stream",
     "text": [
      "2\n"
     ]
    }
   ],
   "source": [
    "#EXPONENT FUNCTION\n",
    "def exponent(base_num, pow_num):\n",
    "    result = 1\n",
    "    for index in range(pow_num):\n",
    "        result= result*base_num\n",
    "        return result\n",
    "print(exponent(2,2))    \n",
    "    "
   ]
  },
  {
   "cell_type": "code",
   "execution_count": 14,
   "id": "3ca16767",
   "metadata": {},
   "outputs": [
    {
     "name": "stdout",
     "output_type": "stream",
     "text": [
      "8\n"
     ]
    }
   ],
   "source": [
    "#2D LISTS AND NESTED LOOPS\n",
    "number_grid = [\n",
    "    [1,2,3],\n",
    "    [4,5,6],\n",
    "    [7,8,9],\n",
    "    [0]\n",
    "]\n",
    "print(number_grid[2][1])"
   ]
  },
  {
   "cell_type": "code",
   "execution_count": 15,
   "id": "52f9dd19",
   "metadata": {},
   "outputs": [
    {
     "name": "stdout",
     "output_type": "stream",
     "text": [
      "[1, 2, 3]\n",
      "[4, 5, 6]\n",
      "[7, 8, 9]\n",
      "[0]\n"
     ]
    }
   ],
   "source": [
    "for row in number_grid:\n",
    "    print(row)"
   ]
  },
  {
   "cell_type": "code",
   "execution_count": 16,
   "id": "bae5730c",
   "metadata": {},
   "outputs": [
    {
     "name": "stdout",
     "output_type": "stream",
     "text": [
      "1\n",
      "2\n",
      "3\n",
      "4\n",
      "5\n",
      "6\n",
      "7\n",
      "8\n",
      "9\n",
      "0\n"
     ]
    }
   ],
   "source": [
    "for row in number_grid:\n",
    "    for col in row:\n",
    "        print(col)"
   ]
  },
  {
   "cell_type": "code",
   "execution_count": 17,
   "id": "5ac0caef",
   "metadata": {},
   "outputs": [
    {
     "name": "stdout",
     "output_type": "stream",
     "text": [
      "Enter a phrase: asdfgtuio\n",
      "gsdfgtggg\n"
     ]
    }
   ],
   "source": [
    "#TRANSLATOR\n",
    "def translate(phrase):\n",
    "    translation = \"\"\n",
    "    for letter in phrase:\n",
    "        if letter in \"AEIOUaeiou\":\n",
    "            translation = translation + \"g\"\n",
    "        else:\n",
    "            translation = translation + letter \n",
    "    return translation \n",
    "print(translate(input(\"Enter a phrase: \")))\n",
    "        "
   ]
  },
  {
   "cell_type": "code",
   "execution_count": null,
   "id": "9e7dd111",
   "metadata": {},
   "outputs": [],
   "source": []
  }
 ],
 "metadata": {
  "kernelspec": {
   "display_name": "Python 3 (ipykernel)",
   "language": "python",
   "name": "python3"
  },
  "language_info": {
   "codemirror_mode": {
    "name": "ipython",
    "version": 3
   },
   "file_extension": ".py",
   "mimetype": "text/x-python",
   "name": "python",
   "nbconvert_exporter": "python",
   "pygments_lexer": "ipython3",
   "version": "3.9.7"
  }
 },
 "nbformat": 4,
 "nbformat_minor": 5
}
