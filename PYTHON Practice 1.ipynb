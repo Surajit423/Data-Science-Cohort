{
 "cells": [
  {
   "cell_type": "code",
   "execution_count": 1,
   "id": "2cc1e11e",
   "metadata": {},
   "outputs": [
    {
     "name": "stdout",
     "output_type": "stream",
     "text": [
      "Hello World\n"
     ]
    }
   ],
   "source": [
    "print(\"Hello World\")"
   ]
  },
  {
   "cell_type": "code",
   "execution_count": 2,
   "id": "67e33721",
   "metadata": {},
   "outputs": [
    {
     "data": {
      "text/plain": [
       "10"
      ]
     },
     "execution_count": 2,
     "metadata": {},
     "output_type": "execute_result"
    }
   ],
   "source": [
    "a1 = 10\n",
    "a1"
   ]
  },
  {
   "cell_type": "code",
   "execution_count": 3,
   "id": "24caf064",
   "metadata": {},
   "outputs": [
    {
     "data": {
      "text/plain": [
       "3.25"
      ]
     },
     "execution_count": 3,
     "metadata": {},
     "output_type": "execute_result"
    }
   ],
   "source": [
    "a1 = 3.25\n",
    "a1"
   ]
  },
  {
   "cell_type": "code",
   "execution_count": 4,
   "id": "6437ab50",
   "metadata": {},
   "outputs": [
    {
     "data": {
      "text/plain": [
       "float"
      ]
     },
     "execution_count": 4,
     "metadata": {},
     "output_type": "execute_result"
    }
   ],
   "source": [
    "type(a1)"
   ]
  },
  {
   "cell_type": "code",
   "execution_count": 5,
   "id": "0debc519",
   "metadata": {},
   "outputs": [
    {
     "data": {
      "text/plain": [
       "(3+4j)"
      ]
     },
     "execution_count": 5,
     "metadata": {},
     "output_type": "execute_result"
    }
   ],
   "source": [
    "a1 =3+4j\n",
    "a1"
   ]
  },
  {
   "cell_type": "code",
   "execution_count": 6,
   "id": "8936fb13",
   "metadata": {},
   "outputs": [
    {
     "data": {
      "text/plain": [
       "complex"
      ]
     },
     "execution_count": 6,
     "metadata": {},
     "output_type": "execute_result"
    }
   ],
   "source": [
    "type(a1)"
   ]
  },
  {
   "cell_type": "code",
   "execution_count": 7,
   "id": "3c2111c9",
   "metadata": {},
   "outputs": [],
   "source": [
    "a = 26\n",
    "a2 = 52"
   ]
  },
  {
   "cell_type": "code",
   "execution_count": 8,
   "id": "222daa67",
   "metadata": {},
   "outputs": [
    {
     "name": "stdout",
     "output_type": "stream",
     "text": [
      "26\n"
     ]
    }
   ],
   "source": [
    "print(a)"
   ]
  },
  {
   "cell_type": "code",
   "execution_count": 9,
   "id": "05811dd8",
   "metadata": {},
   "outputs": [
    {
     "data": {
      "text/plain": [
       "False"
      ]
     },
     "execution_count": 9,
     "metadata": {},
     "output_type": "execute_result"
    }
   ],
   "source": [
    "a>a2"
   ]
  },
  {
   "cell_type": "code",
   "execution_count": 10,
   "id": "21ab9c45",
   "metadata": {},
   "outputs": [
    {
     "data": {
      "text/plain": [
       "'joy'"
      ]
     },
     "execution_count": 10,
     "metadata": {},
     "output_type": "execute_result"
    }
   ],
   "source": [
    "Student = \"Ram\"\n",
    "student = \"joy\"\n",
    "student"
   ]
  },
  {
   "cell_type": "code",
   "execution_count": 11,
   "id": "93c54b1f",
   "metadata": {},
   "outputs": [
    {
     "data": {
      "text/plain": [
       "'Ram'"
      ]
     },
     "execution_count": 11,
     "metadata": {},
     "output_type": "execute_result"
    }
   ],
   "source": [
    "Student"
   ]
  },
  {
   "cell_type": "code",
   "execution_count": 12,
   "id": "6e7fd5ae",
   "metadata": {},
   "outputs": [
    {
     "data": {
      "text/plain": [
       "'joy'"
      ]
     },
     "execution_count": 12,
     "metadata": {},
     "output_type": "execute_result"
    }
   ],
   "source": [
    "student"
   ]
  },
  {
   "cell_type": "code",
   "execution_count": 13,
   "id": "c146291e",
   "metadata": {},
   "outputs": [
    {
     "name": "stdout",
     "output_type": "stream",
     "text": [
      "Ram\n"
     ]
    }
   ],
   "source": [
    "print(Student)"
   ]
  },
  {
   "cell_type": "code",
   "execution_count": 14,
   "id": "94c7d076",
   "metadata": {},
   "outputs": [
    {
     "data": {
      "text/plain": [
       "'I met Ram yesterday'"
      ]
     },
     "execution_count": 14,
     "metadata": {},
     "output_type": "execute_result"
    }
   ],
   "source": [
    "name = \"Ram\"\n",
    "\"I met \"+ name + \" yesterday\""
   ]
  },
  {
   "cell_type": "code",
   "execution_count": 15,
   "id": "5ca442bc",
   "metadata": {},
   "outputs": [
    {
     "name": "stdout",
     "output_type": "stream",
     "text": [
      "I met Ram yesterday\n"
     ]
    }
   ],
   "source": [
    "print(\"I met \"+ name +\" yesterday\")"
   ]
  },
  {
   "cell_type": "code",
   "execution_count": 16,
   "id": "20c05bfc",
   "metadata": {},
   "outputs": [
    {
     "name": "stdout",
     "output_type": "stream",
     "text": [
      "Ram \" Academy\n"
     ]
    }
   ],
   "source": [
    "print(\"Ram \\\" Academy\")"
   ]
  },
  {
   "cell_type": "code",
   "execution_count": 17,
   "id": "1e3feca7",
   "metadata": {},
   "outputs": [
    {
     "name": "stdout",
     "output_type": "stream",
     "text": [
      "Ram \\ boy\n"
     ]
    }
   ],
   "source": [
    "print(\"Ram \\ boy\")"
   ]
  },
  {
   "cell_type": "code",
   "execution_count": 18,
   "id": "b1fe9548",
   "metadata": {},
   "outputs": [
    {
     "name": "stdout",
     "output_type": "stream",
     "text": [
      "Ram Pal is cool\n"
     ]
    }
   ],
   "source": [
    "phrase = \"Ram Pal\"\n",
    "print(phrase + \" is cool\")"
   ]
  },
  {
   "cell_type": "code",
   "execution_count": 19,
   "id": "6dd8b33c",
   "metadata": {},
   "outputs": [
    {
     "name": "stdout",
     "output_type": "stream",
     "text": [
      "RAM PAL\n"
     ]
    }
   ],
   "source": [
    "print(phrase.upper())"
   ]
  },
  {
   "cell_type": "code",
   "execution_count": 20,
   "id": "3e685954",
   "metadata": {},
   "outputs": [
    {
     "data": {
      "text/plain": [
       "'ram pal'"
      ]
     },
     "execution_count": 20,
     "metadata": {},
     "output_type": "execute_result"
    }
   ],
   "source": [
    "phrase.lower()"
   ]
  },
  {
   "cell_type": "code",
   "execution_count": 21,
   "id": "fe458d8d",
   "metadata": {},
   "outputs": [
    {
     "name": "stdout",
     "output_type": "stream",
     "text": [
      "False\n"
     ]
    }
   ],
   "source": [
    "print(phrase.upper().islower())"
   ]
  },
  {
   "cell_type": "code",
   "execution_count": 22,
   "id": "5bf046be",
   "metadata": {},
   "outputs": [
    {
     "name": "stdout",
     "output_type": "stream",
     "text": [
      "7\n"
     ]
    }
   ],
   "source": [
    "print(len(phrase))"
   ]
  },
  {
   "cell_type": "code",
   "execution_count": 23,
   "id": "b5325c51",
   "metadata": {},
   "outputs": [
    {
     "data": {
      "text/plain": [
       "'a'"
      ]
     },
     "execution_count": 23,
     "metadata": {},
     "output_type": "execute_result"
    }
   ],
   "source": [
    "phrase[5]"
   ]
  },
  {
   "cell_type": "code",
   "execution_count": 24,
   "id": "95726639",
   "metadata": {},
   "outputs": [
    {
     "name": "stdout",
     "output_type": "stream",
     "text": [
      "a\n"
     ]
    }
   ],
   "source": [
    "print(phrase[5])"
   ]
  },
  {
   "cell_type": "code",
   "execution_count": 25,
   "id": "a96043f9",
   "metadata": {},
   "outputs": [
    {
     "name": "stdout",
     "output_type": "stream",
     "text": [
      "4\n"
     ]
    }
   ],
   "source": [
    "print(phrase.index(\"P\"))\n",
    "      "
   ]
  },
  {
   "cell_type": "code",
   "execution_count": 26,
   "id": "0d9e5a52",
   "metadata": {},
   "outputs": [
    {
     "name": "stdout",
     "output_type": "stream",
     "text": [
      "Joy Pal\n"
     ]
    }
   ],
   "source": [
    "print(phrase.replace(\"Ram\", \"Joy\"))"
   ]
  },
  {
   "cell_type": "code",
   "execution_count": 27,
   "id": "04741d16",
   "metadata": {},
   "outputs": [
    {
     "data": {
      "text/plain": [
       "7"
      ]
     },
     "execution_count": 27,
     "metadata": {},
     "output_type": "execute_result"
    }
   ],
   "source": [
    "3+4"
   ]
  },
  {
   "cell_type": "code",
   "execution_count": 28,
   "id": "1f754327",
   "metadata": {},
   "outputs": [
    {
     "name": "stdout",
     "output_type": "stream",
     "text": [
      "6.666666666666666\n"
     ]
    }
   ],
   "source": [
    "print(5+(2/6)*5)"
   ]
  },
  {
   "cell_type": "code",
   "execution_count": 29,
   "id": "e3e95ff4",
   "metadata": {},
   "outputs": [
    {
     "name": "stdout",
     "output_type": "stream",
     "text": [
      "5 is my number\n"
     ]
    }
   ],
   "source": [
    "my_num = 5\n",
    "print(str(my_num) + \" is my number\")"
   ]
  },
  {
   "cell_type": "code",
   "execution_count": 30,
   "id": "c80165b2",
   "metadata": {},
   "outputs": [
    {
     "name": "stdout",
     "output_type": "stream",
     "text": [
      "3.5\n"
     ]
    }
   ],
   "source": [
    "num = 3.5\n",
    "print(abs(num))"
   ]
  },
  {
   "cell_type": "code",
   "execution_count": 31,
   "id": "f4c63d6e",
   "metadata": {},
   "outputs": [
    {
     "name": "stdout",
     "output_type": "stream",
     "text": [
      "5\n"
     ]
    }
   ],
   "source": [
    "print(max(3,5))"
   ]
  },
  {
   "cell_type": "code",
   "execution_count": 32,
   "id": "5cb66ced",
   "metadata": {},
   "outputs": [
    {
     "name": "stdout",
     "output_type": "stream",
     "text": [
      "3\n"
     ]
    }
   ],
   "source": [
    "print(min(3,5))"
   ]
  },
  {
   "cell_type": "code",
   "execution_count": 33,
   "id": "02d925bd",
   "metadata": {},
   "outputs": [
    {
     "name": "stdout",
     "output_type": "stream",
     "text": [
      "81\n"
     ]
    }
   ],
   "source": [
    "print(pow(3,4))"
   ]
  },
  {
   "cell_type": "code",
   "execution_count": 34,
   "id": "fa70f0ed",
   "metadata": {},
   "outputs": [
    {
     "name": "stdout",
     "output_type": "stream",
     "text": [
      "7\n"
     ]
    }
   ],
   "source": [
    "print(round(6.7))"
   ]
  },
  {
   "cell_type": "code",
   "execution_count": 35,
   "id": "54d33208",
   "metadata": {},
   "outputs": [
    {
     "name": "stdout",
     "output_type": "stream",
     "text": [
      "3\n",
      "4\n"
     ]
    }
   ],
   "source": [
    "from math import*\n",
    "print(floor(3.7))\n",
    "print(ceil(3.7))"
   ]
  },
  {
   "cell_type": "code",
   "execution_count": 36,
   "id": "a64fd678",
   "metadata": {},
   "outputs": [
    {
     "name": "stdout",
     "output_type": "stream",
     "text": [
      "4\n"
     ]
    }
   ],
   "source": [
    "print(ceil(3.7))"
   ]
  },
  {
   "cell_type": "code",
   "execution_count": 37,
   "id": "05b97085",
   "metadata": {},
   "outputs": [
    {
     "name": "stdout",
     "output_type": "stream",
     "text": [
      "6.0\n"
     ]
    }
   ],
   "source": [
    "print(sqrt(36))"
   ]
  },
  {
   "cell_type": "code",
   "execution_count": 38,
   "id": "2012786a",
   "metadata": {},
   "outputs": [
    {
     "name": "stdout",
     "output_type": "stream",
     "text": [
      "Enter your name: band\n",
      "Enter your age: 26\n",
      "band your age is 26\n"
     ]
    }
   ],
   "source": [
    "#TAKING INPUT FROM USER\n",
    "\n",
    "name = input(\"Enter your name: \")\n",
    "age = input(\"Enter your age: \")\n",
    "print(name + \" your age is \" + age)"
   ]
  },
  {
   "cell_type": "code",
   "execution_count": 39,
   "id": "a2a1102f",
   "metadata": {},
   "outputs": [
    {
     "name": "stdout",
     "output_type": "stream",
     "text": [
      "Enter number1: 25\n",
      "Enter number2: 26\n",
      "51.0\n"
     ]
    }
   ],
   "source": [
    "num1 = float(input(\"Enter number1: \"))\n",
    "num2 = float(input(\"Enter number2: \"))\n",
    "print(num1+num2)"
   ]
  },
  {
   "cell_type": "code",
   "execution_count": 40,
   "id": "fbac25c1",
   "metadata": {},
   "outputs": [
    {
     "name": "stdout",
     "output_type": "stream",
     "text": [
      "Enter number3: 15\n",
      "Enter number4: 36\n",
      "1536\n"
     ]
    }
   ],
   "source": [
    "# it will add two number as astring because inputs are taken as string by default\n",
    "num3 =input(\"Enter number3: \")\n",
    "num4 =input(\"Enter number4: \")\n",
    "print(num3+num4)"
   ]
  },
  {
   "cell_type": "code",
   "execution_count": 41,
   "id": "a763a2a0",
   "metadata": {},
   "outputs": [
    {
     "name": "stdout",
     "output_type": "stream",
     "text": [
      "['Ram', 'Joy', 'Rohit', 'Kunal', 'Sayan']\n"
     ]
    }
   ],
   "source": [
    "##LIST\n",
    "\n",
    "friends = [\"Ram\", \"Joy\", \"Rohit\", \"Kunal\", \"Sayan\"]\n",
    "lucky_num = [6, 5, 9, 26, 12, 19]\n",
    "print(friends)"
   ]
  },
  {
   "cell_type": "code",
   "execution_count": 42,
   "id": "6eeadf17",
   "metadata": {},
   "outputs": [
    {
     "name": "stdout",
     "output_type": "stream",
     "text": [
      "[6, 5, 9, 26, 12, 19]\n"
     ]
    }
   ],
   "source": [
    "print(lucky_num)"
   ]
  },
  {
   "cell_type": "code",
   "execution_count": 43,
   "id": "3beafde1",
   "metadata": {},
   "outputs": [
    {
     "name": "stdout",
     "output_type": "stream",
     "text": [
      "['Ram', 'Joy', 'Rohit', 'Kunal', 'Sayan', 6, 5, 9, 26, 12, 19]\n"
     ]
    }
   ],
   "source": [
    "friends.extend(lucky_num)\n",
    "print(friends)"
   ]
  },
  {
   "cell_type": "code",
   "execution_count": 44,
   "id": "0c5a7c97",
   "metadata": {},
   "outputs": [],
   "source": [
    "friends = [\"Ram\", \"Joy\", \"Rohit\", \"Kunal\", \"Sayan\"]\n",
    "lucky_num = [6, 5, 9, 26, 12, 19]\n",
    "friends.append(\"Ankush\")"
   ]
  },
  {
   "cell_type": "code",
   "execution_count": 45,
   "id": "8b28b6e7",
   "metadata": {},
   "outputs": [
    {
     "name": "stdout",
     "output_type": "stream",
     "text": [
      "['Ram', 'Joy', 'Rohit', 'Kunal', 'Sayan', 'Ankush']\n"
     ]
    }
   ],
   "source": [
    "print(friends)"
   ]
  },
  {
   "cell_type": "code",
   "execution_count": 46,
   "id": "519c4aab",
   "metadata": {},
   "outputs": [],
   "source": [
    "friends.insert(2,\"subha\")"
   ]
  },
  {
   "cell_type": "code",
   "execution_count": 47,
   "id": "467b5934",
   "metadata": {},
   "outputs": [
    {
     "name": "stdout",
     "output_type": "stream",
     "text": [
      "['Ram', 'Joy', 'subha', 'Rohit', 'Kunal', 'Sayan', 'Ankush']\n"
     ]
    }
   ],
   "source": [
    "print(friends)"
   ]
  },
  {
   "cell_type": "code",
   "execution_count": 48,
   "id": "84e3fa9a",
   "metadata": {},
   "outputs": [
    {
     "name": "stdout",
     "output_type": "stream",
     "text": [
      "['Ram', 'Joy', 'subha', 'Rohit', 'Kunal', 'Sayan']\n"
     ]
    }
   ],
   "source": [
    "friends.remove(\"Ankush\")\n",
    "print(friends)"
   ]
  },
  {
   "cell_type": "code",
   "execution_count": 49,
   "id": "ad3c088e",
   "metadata": {},
   "outputs": [
    {
     "name": "stdout",
     "output_type": "stream",
     "text": [
      "['Ram', 'Joy', 'subha', 'Rohit', 'Kunal']\n"
     ]
    }
   ],
   "source": [
    "friends.pop()\n",
    "print(friends)"
   ]
  },
  {
   "cell_type": "code",
   "execution_count": 50,
   "id": "37e689fc",
   "metadata": {},
   "outputs": [
    {
     "name": "stdout",
     "output_type": "stream",
     "text": [
      "[]\n"
     ]
    }
   ],
   "source": [
    "friends.clear()\n",
    "print(friends)"
   ]
  },
  {
   "cell_type": "code",
   "execution_count": 51,
   "id": "27cece5b",
   "metadata": {},
   "outputs": [
    {
     "name": "stdout",
     "output_type": "stream",
     "text": [
      "2\n"
     ]
    }
   ],
   "source": [
    "friends = [\"Ram\", \"Joy\", \"Rohit\", \"Kunal\", \"Sayan\"]\n",
    "lucky_num = [6, 5, 9, 26, 12, 19]\n",
    "print(friends.index(\"Rohit\"))"
   ]
  },
  {
   "cell_type": "code",
   "execution_count": 52,
   "id": "c32822d6",
   "metadata": {},
   "outputs": [
    {
     "name": "stdout",
     "output_type": "stream",
     "text": [
      "1\n"
     ]
    }
   ],
   "source": [
    "print(friends.count(\"Ram\"))"
   ]
  },
  {
   "cell_type": "code",
   "execution_count": 53,
   "id": "a9def064",
   "metadata": {},
   "outputs": [
    {
     "name": "stdout",
     "output_type": "stream",
     "text": [
      "['Joy', 'Kunal', 'Ram', 'Rohit', 'Sayan']\n"
     ]
    }
   ],
   "source": [
    "friends.sort()\n",
    "print(friends)"
   ]
  },
  {
   "cell_type": "code",
   "execution_count": 54,
   "id": "dbe82d8f",
   "metadata": {},
   "outputs": [
    {
     "name": "stdout",
     "output_type": "stream",
     "text": [
      "[5, 6, 9, 12, 19, 26]\n"
     ]
    }
   ],
   "source": [
    "lucky_num.sort()\n",
    "print(lucky_num)"
   ]
  },
  {
   "cell_type": "code",
   "execution_count": 55,
   "id": "d2f3ab3b",
   "metadata": {},
   "outputs": [
    {
     "name": "stdout",
     "output_type": "stream",
     "text": [
      "[26, 19, 12, 9, 6, 5]\n"
     ]
    }
   ],
   "source": [
    "lucky_num.reverse()\n",
    "print(lucky_num)"
   ]
  },
  {
   "cell_type": "code",
   "execution_count": 56,
   "id": "8fdb2fed",
   "metadata": {},
   "outputs": [
    {
     "name": "stdout",
     "output_type": "stream",
     "text": [
      "['Joy', 'Kunal', 'Ram', 'Rohit', 'Sayan']\n"
     ]
    }
   ],
   "source": [
    "friends2 = friends.copy()\n",
    "print(friends2)"
   ]
  },
  {
   "cell_type": "code",
   "execution_count": 57,
   "id": "2f872e03",
   "metadata": {},
   "outputs": [
    {
     "name": "stdout",
     "output_type": "stream",
     "text": [
      "(9, 6)\n"
     ]
    }
   ],
   "source": [
    "#TUPLES\n",
    "coordinate = [(2,3), (5,6), (9,6)]\n",
    "print(coordinate[2])"
   ]
  },
  {
   "cell_type": "code",
   "execution_count": 58,
   "id": "451d1a26",
   "metadata": {},
   "outputs": [
    {
     "name": "stdout",
     "output_type": "stream",
     "text": [
      "Top\n",
      "Hello Surajit you are 20\n"
     ]
    }
   ],
   "source": [
    "#FUNCTION\n",
    "def say_hi(name, age):\n",
    "    print(\"Hello \"+ name+ \" you are \"+ str(age))\n",
    "print(\"Top\")    \n",
    "say_hi(\"Surajit\", 20)"
   ]
  },
  {
   "cell_type": "code",
   "execution_count": 59,
   "id": "4be9c6ae",
   "metadata": {},
   "outputs": [
    {
     "name": "stdout",
     "output_type": "stream",
     "text": [
      "64\n"
     ]
    }
   ],
   "source": [
    "def cube(num):\n",
    "    return num*num*num\n",
    "print(cube(4))"
   ]
  },
  {
   "cell_type": "code",
   "execution_count": 60,
   "id": "a81952f2",
   "metadata": {},
   "outputs": [
    {
     "name": "stdout",
     "output_type": "stream",
     "text": [
      "You are not a male\n"
     ]
    }
   ],
   "source": [
    "is_male =False\n",
    "\n",
    "if is_male:\n",
    "    print(\"You are a male\")\n",
    "else:\n",
    "    print(\"You are not a male\")"
   ]
  },
  {
   "cell_type": "code",
   "execution_count": 61,
   "id": "ab1adfc3",
   "metadata": {},
   "outputs": [
    {
     "name": "stdout",
     "output_type": "stream",
     "text": [
      "You are male or tall or both\n"
     ]
    }
   ],
   "source": [
    "is_male = True\n",
    "is_tall = False\n",
    "\n",
    "if is_male or is_tall:\n",
    "    print(\"You are male or tall or both\")\n",
    "else:\n",
    "    print(\"You are either male or tall\")"
   ]
  },
  {
   "cell_type": "code",
   "execution_count": 62,
   "id": "13ea1d3b",
   "metadata": {},
   "outputs": [
    {
     "name": "stdout",
     "output_type": "stream",
     "text": [
      "You are neither not male nor not tall or both\n"
     ]
    }
   ],
   "source": [
    "\n",
    "if is_male and is_tall:\n",
    "    print(\"You are a tall male\")\n",
    "else:\n",
    "    print(\"You are neither not male nor not tall or both\")"
   ]
  },
  {
   "cell_type": "code",
   "execution_count": 63,
   "id": "7b059de2",
   "metadata": {},
   "outputs": [
    {
     "name": "stdout",
     "output_type": "stream",
     "text": [
      "You are a short male\n"
     ]
    }
   ],
   "source": [
    "is_male = True\n",
    "is_tall = False\n",
    "\n",
    "if is_male and is_tall:\n",
    "    print(\"You are a tall male\")\n",
    "elif is_male and not(is_tall):\n",
    "    print(\"You are a short male\")\n",
    "elif not(is_male) and is_tall:\n",
    "    print(\"You are not a male but you are tall\")\n",
    "else:\n",
    "    print(\"You are either not male or not tall or both\")\n",
    "    "
   ]
  },
  {
   "cell_type": "code",
   "execution_count": null,
   "id": "7d313209",
   "metadata": {},
   "outputs": [],
   "source": []
  },
  {
   "cell_type": "code",
   "execution_count": null,
   "id": "36dd1c8b",
   "metadata": {},
   "outputs": [],
   "source": []
  }
 ],
 "metadata": {
  "kernelspec": {
   "display_name": "Python 3 (ipykernel)",
   "language": "python",
   "name": "python3"
  },
  "language_info": {
   "codemirror_mode": {
    "name": "ipython",
    "version": 3
   },
   "file_extension": ".py",
   "mimetype": "text/x-python",
   "name": "python",
   "nbconvert_exporter": "python",
   "pygments_lexer": "ipython3",
   "version": "3.9.7"
  }
 },
 "nbformat": 4,
 "nbformat_minor": 5
}
